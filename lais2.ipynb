{
 "cells": [
  {
   "cell_type": "markdown",
   "metadata": {},
   "source": [
    "<center><h1>Instalação Jupyter Notebook no Windows</h1></center>"
   ]
  },
  {
   "cell_type": "markdown",
   "metadata": {},
   "source": [
    "O Jupyter Notebook é uma aplicação open source, possibilita a criação de documentos que podem ser facilmente compartilhados, tanto para quem usa o jupyter quanto para quem não.\n",
    "\n",
    "Auxilia a demonstrar o que está acontecendo no código, ou calcular a performance de duas diferentes operações.\n",
    "\n",
    "As principais formas de utilizar, são:\n",
    "\n",
    "    limpeza de dados e transformação,\n",
    "    simulação numérica;\n",
    "    modelos estatísticos;\n",
    "    visualização de dados;\n",
    "    machine learning.\n",
    "    \n",
    " Para fazer o download utilize o link: http://jupyter.readthedocs.io/en/latest/install.html\n",
    " \n",
    " Baixe e siga o fluxo \"next -> next\" para concluir o download.\n",
    " \n",
    " Apenas um ponto de atenção é que na parte de variaveis de sistemas , utilize a opção de:\n",
    " <b>Add Anaconda to my PATH environment variable</b>\n",
    " "
   ]
  },
  {
   "cell_type": "markdown",
   "metadata": {},
   "source": [
    "<center><h1>Código Arduino</h1></center>"
   ]
  },
  {
   "cell_type": "code",
   "execution_count": null,
   "metadata": {},
   "outputs": [],
   "source": [
    "#include <LiquidCrystal.h>\n",
    "\n",
    "// Preparação do Arduino, este código irá rodar uma única vez\n",
    "void setup()\n",
    "{\n",
    "  // Colocamos o pino 12 do Arduino como OUTPUT (saída)\n",
    "  pinMode(10, OUTPUT);\n",
    "}\n",
    "\n",
    "// Este código é chamado automáticamente pelo Arduino, ficará em\n",
    "// loop até que seu Arduino seja desligado\n",
    "void loop()\n",
    "{\n",
    "  // Ativamos o pino 12 (colocando 5v nele)  \n",
    "  digitalWrite(10, HIGH);\n",
    "\n",
    "  // Aguardamos 1 segundo\n",
    "  delay(1000);\n",
    "\n",
    "  // Desligamos o pino 12\n",
    "  digitalWrite(10, LOW);\n",
    "\n",
    "  // Aguardamos mais um segundo\n",
    "  delay(1000);\n",
    "\n",
    "  // Este código irá se repetir eternamente\n",
    "}"
   ]
  }
 ],
 "metadata": {
  "kernelspec": {
   "display_name": "Python 3",
   "language": "python",
   "name": "python3"
  },
  "language_info": {
   "codemirror_mode": {
    "name": "ipython",
    "version": 3
   },
   "file_extension": ".py",
   "mimetype": "text/x-python",
   "name": "python",
   "nbconvert_exporter": "python",
   "pygments_lexer": "ipython3",
   "version": "3.7.3"
  }
 },
 "nbformat": 4,
 "nbformat_minor": 2
}
